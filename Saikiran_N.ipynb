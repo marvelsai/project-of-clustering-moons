{
  "nbformat": 4,
  "nbformat_minor": 0,
  "metadata": {
    "kernelspec": {
      "display_name": "Python 3",
      "language": "python",
      "name": "python3"
    },
    "language_info": {
      "codemirror_mode": {
        "name": "ipython",
        "version": 3
      },
      "file_extension": ".py",
      "mimetype": "text/x-python",
      "name": "python",
      "nbconvert_exporter": "python",
      "pygments_lexer": "ipython3",
      "version": "3.8.3"
    },
    "colab": {
      "name": "Saikiran_N.ipynb",
      "provenance": [],
      "collapsed_sections": [],
      "include_colab_link": true
    }
  },
  "cells": [
    {
      "cell_type": "markdown",
      "metadata": {
        "id": "view-in-github",
        "colab_type": "text"
      },
      "source": [
        "<a href=\"https://colab.research.google.com/github/marvelsai/project-of-clustering-moons/blob/main/Saikiran_N.ipynb\" target=\"_parent\"><img src=\"https://colab.research.google.com/assets/colab-badge.svg\" alt=\"Open In Colab\"/></a>"
      ]
    },
    {
      "cell_type": "markdown",
      "metadata": {
        "id": "K6uszEF-tg6Q"
      },
      "source": [
        "# Unsupervised Machine Learning - KMeans\n",
        "\n",
        "Support vector machines (SVMs) are a set of supervised learning methods used for classification, regression and outliers detection. SVMs are one of the most robust prediction methods. \n",
        "\n",
        "Sources: \n",
        "[sklearn](https://scikit-learn.org/stable/modules/generated/sklearn.cluster.KMeans.html?highlight=kmeans#sklearn.cluster.KMeans), [wikipedia](https://en.wikipedia.org/wiki/K-means_clustering)"
      ]
    },
    {
      "cell_type": "markdown",
      "metadata": {
        "id": "fUB89AR6C5Br"
      },
      "source": [
        "![kmeans.png](https://www.mathworks.com/matlabcentral/mlc-downloads/downloads/submissions/52579/versions/9/screenshot.jpg)"
      ]
    },
    {
      "cell_type": "code",
      "metadata": {
        "id": "OxAXfNEHfzTe"
      },
      "source": [
        ""
      ],
      "execution_count": null,
      "outputs": []
    },
    {
      "cell_type": "code",
      "metadata": {
        "id": "gB0zafh7fzTg"
      },
      "source": [
        "import pandas as pd\n",
        "import numpy as np\n",
        "import matplotlib.pyplot as plt\n",
        "from sklearn import datasets\n"
      ],
      "execution_count": 1,
      "outputs": []
    },
    {
      "cell_type": "code",
      "metadata": {
        "id": "5t6-yELWfzTi"
      },
      "source": [
        "# Take make moons in built dataset\n",
        "\n",
        "data_ = datasets.make_moons(200)"
      ],
      "execution_count": 2,
      "outputs": []
    },
    {
      "cell_type": "code",
      "metadata": {
        "id": "OtEsg7VAfzTk",
        "colab": {
          "base_uri": "https://localhost:8080/"
        },
        "outputId": "48ededad-cb5d-4aa0-dc1e-b686ac075b6e"
      },
      "source": [
        "# check the dataset\n",
        "\n",
        "data_"
      ],
      "execution_count": 3,
      "outputs": [
        {
          "output_type": "execute_result",
          "data": {
            "text/plain": [
              "(array([[ 7.45264450e-01,  6.66769001e-01],\n",
              "        [ 2.96920375e-01,  9.54902241e-01],\n",
              "        [ 5.27728925e-01, -3.81453363e-01],\n",
              "        [ 9.02926538e-01,  4.29794912e-01],\n",
              "        [-1.58659638e-02,  9.99874128e-01],\n",
              "        [-1.00000000e+00,  1.22464680e-16],\n",
              "        [ 7.16320670e-02,  1.28337544e-01],\n",
              "        [ 2.01332353e-03,  4.36576080e-01],\n",
              "        [-7.66044443e-01,  6.42787610e-01],\n",
              "        [ 1.96794870e+00,  2.48852013e-01],\n",
              "        [ 7.64241064e-01, -4.71811568e-01],\n",
              "        [ 4.72271075e-01,  8.81453363e-01],\n",
              "        [ 9.16108457e-01,  4.00930535e-01],\n",
              "        [ 1.70147489e+00, -2.12694171e-01],\n",
              "        [-7.23734038e-01,  6.90079011e-01],\n",
              "        [ 1.26150623e-01,  1.38032639e-02],\n",
              "        [ 9.59492974e-01,  2.81732557e-01],\n",
              "        [-4.15415013e-01,  9.09631995e-01],\n",
              "        [-9.99496542e-01,  3.17279335e-02],\n",
              "        [ 5.55933387e-01, -3.95993774e-01],\n",
              "        [ 1.26647381e+00, -4.63842159e-01],\n",
              "        [ 6.05609687e-01,  7.95761841e-01],\n",
              "        [ 1.07924996e+00, -4.96854776e-01],\n",
              "        [ 1.87384938e+00,  1.38032639e-02],\n",
              "        [ 1.44406661e+00, -3.95993774e-01],\n",
              "        [-1.73648178e-01,  9.84807753e-01],\n",
              "        [ 4.72774532e-01, -3.49725430e-01],\n",
              "        [ 1.94729742e-01, -9.29079291e-02],\n",
              "        [-9.95471923e-01,  9.50560433e-02],\n",
              "        [-1.10838200e-01,  9.93838464e-01],\n",
              "        [ 9.39692621e-01,  3.42020143e-01],\n",
              "        [ 1.58005691e+00, -3.14575952e-01],\n",
              "        [ 1.55392006e+00, -3.32569855e-01],\n",
              "        [ 1.88883545e+00,  4.17734783e-02],\n",
              "        [-1.42314838e-01,  9.89821442e-01],\n",
              "        [-8.88835449e-01,  4.58226522e-01],\n",
              "        [ 1.74526445e+00, -1.66769001e-01],\n",
              "        [ 8.73849377e-01,  4.86196736e-01],\n",
              "        [ 1.29692038e+00, -4.54902241e-01],\n",
              "        [ 8.04518717e-03,  3.73407546e-01],\n",
              "        [-9.59492974e-01,  2.81732557e-01],\n",
              "        [ 2.13946905e-01, -1.18158986e-01],\n",
              "        [ 1.60560969e+00, -2.95761841e-01],\n",
              "        [ 6.03073792e-02,  1.57979857e-01],\n",
              "        [-9.50071118e-01,  3.12033446e-01],\n",
              "        [-4.75819158e-02,  9.98867339e-01],\n",
              "        [ 9.99496542e-01,  3.17279335e-02],\n",
              "        [-9.81928697e-01,  1.89251244e-01],\n",
              "        [ 1.42314838e-01,  9.89821442e-01],\n",
              "        [ 7.03079625e-01, -4.54902241e-01],\n",
              "        [ 1.99195481e+00,  3.73407546e-01],\n",
              "        [ 1.99798668e+00,  4.36576080e-01],\n",
              "        [ 4.15415013e-01,  9.09631995e-01],\n",
              "        [ 8.38915426e-02,  9.90694646e-02],\n",
              "        [ 5.53920064e-01,  8.32569855e-01],\n",
              "        [ 1.72373404e+00, -1.90079011e-01],\n",
              "        [ 3.56886222e-01,  9.34147860e-01],\n",
              "        [ 6.72932037e-01, -4.45000819e-01],\n",
              "        [ 1.98743889e+00,  3.41998604e-01],\n",
              "        [-4.44066613e-01,  8.95993774e-01],\n",
              "        [ 7.23734038e-01,  6.90079011e-01],\n",
              "        [-6.78509412e-01,  7.34591709e-01],\n",
              "        [-7.45264450e-01,  6.66769001e-01],\n",
              "        [ 2.45702131e-02,  2.79689467e-01],\n",
              "        [ 2.76265962e-01, -1.90079011e-01],\n",
              "        [-8.05270258e-01,  5.92907929e-01],\n",
              "        [ 7.86053095e-01,  6.18158986e-01],\n",
              "        [-3.86345126e-01,  9.22354294e-01],\n",
              "        [ 4.99288823e-02,  1.87966554e-01],\n",
              "        [ 1.20480667e+00, -4.78802446e-01],\n",
              "        [ 1.99949654e+00,  4.68272067e-01],\n",
              "        [ 1.65486073e+00, -2.55749574e-01],\n",
              "        [ 8.41253533e-01,  5.40640817e-01],\n",
              "        [-8.57983413e-01,  5.13677392e-01],\n",
              "        [ 1.95949297e+00,  2.18267443e-01],\n",
              "        [ 1.42016587e-01, -1.36773916e-02],\n",
              "        [-2.66473814e-01,  9.63842159e-01],\n",
              "        [ 1.97542979e+00,  2.79689467e-01],\n",
              "        [ 8.26351822e-01, -4.84807753e-01],\n",
              "        [ 9.70734617e-02,  7.02050879e-02],\n",
              "        [ 1.38634513e+00, -4.22354294e-01],\n",
              "        [ 9.52418084e-01, -4.98867339e-01],\n",
              "        [ 4.75819158e-02,  9.98867339e-01],\n",
              "        [-5.80056910e-01,  8.14575952e-01],\n",
              "        [ 1.41541501e+00, -4.09631995e-01],\n",
              "        [ 1.93969262e+00,  1.57979857e-01],\n",
              "        [ 6.54860734e-01,  7.55749574e-01],\n",
              "        [-9.87438889e-01,  1.58001396e-01],\n",
              "        [ 5.84584987e-01, -4.09631995e-01],\n",
              "        [ 1.11164551e-01,  4.17734783e-02],\n",
              "        [ 1.00000000e+00,  0.00000000e+00],\n",
              "        [ 4.19943090e-01, -3.14575952e-01],\n",
              "        [ 0.00000000e+00,  5.00000000e-01],\n",
              "        [-7.01474888e-01,  7.12694171e-01],\n",
              "        [-8.41253533e-01,  5.40640817e-01],\n",
              "        [-4.72271075e-01,  8.81453363e-01],\n",
              "        [-2.35758936e-01,  9.71811568e-01],\n",
              "        [-2.04806668e-01,  9.78802446e-01],\n",
              "        [ 9.75429787e-01,  2.20310533e-01],\n",
              "        [-9.39692621e-01,  3.42020143e-01],\n",
              "        [ 1.10838200e-01,  9.93838464e-01],\n",
              "        [ 5.00000000e-01,  8.66025404e-01],\n",
              "        [ 7.95193332e-01, -4.78802446e-01],\n",
              "        [ 2.33955557e-01, -1.42787610e-01],\n",
              "        [ 9.84134036e-01, -4.99874128e-01],\n",
              "        [ 9.97986676e-01,  6.34239197e-02],\n",
              "        [ 7.01474888e-01,  7.12694171e-01],\n",
              "        [ 5.03457617e-04,  4.68272067e-01],\n",
              "        [ 1.23575894e+00, -4.71811568e-01],\n",
              "        [ 1.58746467e-01, -4.06408175e-02],\n",
              "        [ 1.50000000e+00, -3.66025404e-01],\n",
              "        [ 4.05070264e-02,  2.18267443e-01],\n",
              "        [ 1.14231484e+00, -4.89821442e-01],\n",
              "        [-7.86053095e-01,  6.18158986e-01],\n",
              "        [ 1.52722547e+00, -3.49725430e-01],\n",
              "        [ 1.82367658e+00, -6.70598639e-02],\n",
              "        [ 1.92836793e+00,  1.28337544e-01],\n",
              "        [ 5.80056910e-01,  8.14575952e-01],\n",
              "        [-3.27067963e-01,  9.45000819e-01],\n",
              "        [-9.67948701e-01,  2.51147987e-01],\n",
              "        [ 8.05270258e-01,  5.92907929e-01],\n",
              "        [ 8.89161800e-01, -4.93838464e-01],\n",
              "        [-5.00000000e-01,  8.66025404e-01],\n",
              "        [ 1.35688622e+00, -4.34147860e-01],\n",
              "        [ 8.88835449e-01,  4.58226522e-01],\n",
              "        [-9.28367933e-01,  3.71662456e-01],\n",
              "        [ 1.99547192e+00,  4.04943957e-01],\n",
              "        [ 1.01586596e+00, -4.99874128e-01],\n",
              "        [ 1.04758192e+00, -4.98867339e-01],\n",
              "        [ 2.98525112e-01, -2.12694171e-01],\n",
              "        [ 1.98192870e+00,  3.10748756e-01],\n",
              "        [ 9.81928697e-01,  1.89251244e-01],\n",
              "        [ 1.11083820e+00, -4.93838464e-01],\n",
              "        [ 8.57685162e-01, -4.89821442e-01],\n",
              "        [-5.27225468e-01,  8.49725430e-01],\n",
              "        [ 1.80527026e+00, -9.29079291e-02],\n",
              "        [ 3.94390313e-01, -2.95761841e-01],\n",
              "        [ 6.13654874e-01, -4.22354294e-01],\n",
              "        [ 1.84125353e+00, -4.06408175e-02],\n",
              "        [ 1.17364818e+00, -4.84807753e-01],\n",
              "        [ 5.27225468e-01,  8.49725430e-01],\n",
              "        [-9.02926538e-01,  4.29794912e-01],\n",
              "        [ 1.91610846e+00,  9.90694646e-02],\n",
              "        [-8.23676581e-01,  5.67059864e-01],\n",
              "        [ 9.50071118e-01,  3.12033446e-01],\n",
              "        [ 1.73648178e-01,  9.84807753e-01],\n",
              "        [ 1.76323419e-01, -6.70598639e-02],\n",
              "        [ 3.86345126e-01,  9.22354294e-01],\n",
              "        [-2.96920375e-01,  9.54902241e-01],\n",
              "        [ 4.46079936e-01, -3.32569855e-01],\n",
              "        [-8.73849377e-01,  4.86196736e-01],\n",
              "        [ 2.35758936e-01,  9.71811568e-01],\n",
              "        [-9.97986676e-01,  6.34239197e-02],\n",
              "        [-5.53920064e-01,  8.32569855e-01],\n",
              "        [ 8.57983413e-01,  5.13677392e-01],\n",
              "        [ 6.78509412e-01,  7.34591709e-01],\n",
              "        [ 1.85798341e+00, -1.36773916e-02],\n",
              "        [ 4.52807743e-03,  4.04943957e-01],\n",
              "        [-3.56886222e-01,  9.34147860e-01],\n",
              "        [ 9.87438889e-01,  1.58001396e-01],\n",
              "        [ 1.80713027e-02,  3.10748756e-01],\n",
              "        [ 1.32706796e+00, -4.45000819e-01],\n",
              "        [ 8.23676581e-01,  5.67059864e-01],\n",
              "        [ 1.63055267e+00, -2.76146464e-01],\n",
              "        [ 3.69447333e-01, -2.76146464e-01],\n",
              "        [ 1.78605309e+00, -1.18158986e-01],\n",
              "        [ 5.00000000e-01, -3.66025404e-01],\n",
              "        [ 1.90292654e+00,  7.02050879e-02],\n",
              "        [-6.54860734e-01,  7.55749574e-01],\n",
              "        [-7.92499569e-02,  9.96854776e-01],\n",
              "        [ 7.92499569e-02,  9.96854776e-01],\n",
              "        [ 1.67850941e+00, -2.34591709e-01],\n",
              "        [ 3.45139266e-01, -2.55749574e-01],\n",
              "        [ 6.30552667e-01,  7.76146464e-01],\n",
              "        [ 4.44066613e-01,  8.95993774e-01],\n",
              "        [ 9.67948701e-01,  2.51147987e-01],\n",
              "        [-6.30552667e-01,  7.76146464e-01],\n",
              "        [ 9.20750043e-01, -4.96854776e-01],\n",
              "        [ 6.43113778e-01, -4.34147860e-01],\n",
              "        [ 3.21490588e-01, -2.34591709e-01],\n",
              "        [ 2.00000000e+00,  5.00000000e-01],\n",
              "        [ 9.95471923e-01,  9.50560433e-02],\n",
              "        [ 3.27067963e-01,  9.45000819e-01],\n",
              "        [ 9.28367933e-01,  3.71662456e-01],\n",
              "        [ 7.33526186e-01, -4.63842159e-01],\n",
              "        [ 1.25611113e-02,  3.41998604e-01],\n",
              "        [ 3.20512986e-02,  2.48852013e-01],\n",
              "        [ 2.66473814e-01,  9.63842159e-01],\n",
              "        [ 2.54735550e-01, -1.66769001e-01],\n",
              "        [-9.75429787e-01,  2.20310533e-01],\n",
              "        [ 9.91954813e-01,  1.26592454e-01],\n",
              "        [ 1.95007112e+00,  1.87966554e-01],\n",
              "        [ 2.04806668e-01,  9.78802446e-01],\n",
              "        [ 1.76604444e+00, -1.42787610e-01],\n",
              "        [-9.16108457e-01,  4.00930535e-01],\n",
              "        [-6.05609687e-01,  7.95761841e-01],\n",
              "        [-9.91954813e-01,  1.26592454e-01],\n",
              "        [ 1.58659638e-02,  9.99874128e-01],\n",
              "        [ 7.66044443e-01,  6.42787610e-01],\n",
              "        [ 1.47227107e+00, -3.81453363e-01]]),\n",
              " array([0, 0, 1, 0, 0, 0, 1, 1, 0, 1, 1, 0, 0, 1, 0, 1, 0, 0, 0, 1, 1, 0,\n",
              "        1, 1, 1, 0, 1, 1, 0, 0, 0, 1, 1, 1, 0, 0, 1, 0, 1, 1, 0, 1, 1, 1,\n",
              "        0, 0, 0, 0, 0, 1, 1, 1, 0, 1, 0, 1, 0, 1, 1, 0, 0, 0, 0, 1, 1, 0,\n",
              "        0, 0, 1, 1, 1, 1, 0, 0, 1, 1, 0, 1, 1, 1, 1, 1, 0, 0, 1, 1, 0, 0,\n",
              "        1, 1, 0, 1, 1, 0, 0, 0, 0, 0, 0, 0, 0, 0, 1, 1, 1, 0, 0, 1, 1, 1,\n",
              "        1, 1, 1, 0, 1, 1, 1, 0, 0, 0, 0, 1, 0, 1, 0, 0, 1, 1, 1, 1, 1, 0,\n",
              "        1, 1, 0, 1, 1, 1, 1, 1, 0, 0, 1, 0, 0, 0, 1, 0, 0, 1, 0, 0, 0, 0,\n",
              "        0, 0, 1, 1, 0, 0, 1, 1, 0, 1, 1, 1, 1, 1, 0, 0, 0, 1, 1, 0, 0, 0,\n",
              "        0, 1, 1, 1, 1, 0, 0, 0, 1, 1, 1, 0, 1, 0, 0, 1, 0, 1, 0, 0, 0, 0,\n",
              "        0, 1]))"
            ]
          },
          "metadata": {
            "tags": []
          },
          "execution_count": 3
        }
      ]
    },
    {
      "cell_type": "code",
      "metadata": {
        "id": "uK4VIp7cfzTo"
      },
      "source": [
        "# create input dataframe\n",
        "\n",
        "inputData = pd.DataFrame(data = data_[0])"
      ],
      "execution_count": 4,
      "outputs": []
    },
    {
      "cell_type": "code",
      "metadata": {
        "id": "fxZ5f9xSfzTp",
        "colab": {
          "base_uri": "https://localhost:8080/",
          "height": 204
        },
        "outputId": "3ef9cf4a-547a-4b28-d88e-4cd4132783c8"
      },
      "source": [
        "inputData.head()"
      ],
      "execution_count": 5,
      "outputs": [
        {
          "output_type": "execute_result",
          "data": {
            "text/html": [
              "<div>\n",
              "<style scoped>\n",
              "    .dataframe tbody tr th:only-of-type {\n",
              "        vertical-align: middle;\n",
              "    }\n",
              "\n",
              "    .dataframe tbody tr th {\n",
              "        vertical-align: top;\n",
              "    }\n",
              "\n",
              "    .dataframe thead th {\n",
              "        text-align: right;\n",
              "    }\n",
              "</style>\n",
              "<table border=\"1\" class=\"dataframe\">\n",
              "  <thead>\n",
              "    <tr style=\"text-align: right;\">\n",
              "      <th></th>\n",
              "      <th>0</th>\n",
              "      <th>1</th>\n",
              "    </tr>\n",
              "  </thead>\n",
              "  <tbody>\n",
              "    <tr>\n",
              "      <th>0</th>\n",
              "      <td>0.745264</td>\n",
              "      <td>0.666769</td>\n",
              "    </tr>\n",
              "    <tr>\n",
              "      <th>1</th>\n",
              "      <td>0.296920</td>\n",
              "      <td>0.954902</td>\n",
              "    </tr>\n",
              "    <tr>\n",
              "      <th>2</th>\n",
              "      <td>0.527729</td>\n",
              "      <td>-0.381453</td>\n",
              "    </tr>\n",
              "    <tr>\n",
              "      <th>3</th>\n",
              "      <td>0.902927</td>\n",
              "      <td>0.429795</td>\n",
              "    </tr>\n",
              "    <tr>\n",
              "      <th>4</th>\n",
              "      <td>-0.015866</td>\n",
              "      <td>0.999874</td>\n",
              "    </tr>\n",
              "  </tbody>\n",
              "</table>\n",
              "</div>"
            ],
            "text/plain": [
              "          0         1\n",
              "0  0.745264  0.666769\n",
              "1  0.296920  0.954902\n",
              "2  0.527729 -0.381453\n",
              "3  0.902927  0.429795\n",
              "4 -0.015866  0.999874"
            ]
          },
          "metadata": {
            "tags": []
          },
          "execution_count": 5
        }
      ]
    },
    {
      "cell_type": "code",
      "metadata": {
        "colab": {
          "base_uri": "https://localhost:8080/",
          "height": 282
        },
        "id": "bSpM4Pxyxymy",
        "outputId": "573b4243-42f5-48d3-9594-b110cd8e687b"
      },
      "source": [
        "plt.scatter(inputData[0], inputData[1])"
      ],
      "execution_count": 6,
      "outputs": [
        {
          "output_type": "execute_result",
          "data": {
            "text/plain": [
              "<matplotlib.collections.PathCollection at 0x7f8144d1a810>"
            ]
          },
          "metadata": {
            "tags": []
          },
          "execution_count": 6
        },
        {
          "output_type": "display_data",
          "data": {
            "image/png": "[encoded data removed]",
            "text/plain": [
              "<Figure size 432x288 with 1 Axes>"
            ]
          },
          "metadata": {
            "tags": [],
            "needs_background": "light"
          }
        }
      ]
    },
    {
      "cell_type": "code",
      "metadata": {
        "id": "hFrE9X7yfzTr",
        "colab": {
          "base_uri": "https://localhost:8080/",
          "height": 204
        },
        "outputId": "5d64d1d0-b443-4f35-d34a-beb587113864"
      },
      "source": [
        "# create output dataframe\n",
        "\n",
        "outputData = pd.DataFrame(data = data_[1])\n",
        "outputData.head()"
      ],
      "execution_count": 7,
      "outputs": [
        {
          "output_type": "execute_result",
          "data": {
            "text/html": [
              "<div>\n",
              "<style scoped>\n",
              "    .dataframe tbody tr th:only-of-type {\n",
              "        vertical-align: middle;\n",
              "    }\n",
              "\n",
              "    .dataframe tbody tr th {\n",
              "        vertical-align: top;\n",
              "    }\n",
              "\n",
              "    .dataframe thead th {\n",
              "        text-align: right;\n",
              "    }\n",
              "</style>\n",
              "<table border=\"1\" class=\"dataframe\">\n",
              "  <thead>\n",
              "    <tr style=\"text-align: right;\">\n",
              "      <th></th>\n",
              "      <th>0</th>\n",
              "    </tr>\n",
              "  </thead>\n",
              "  <tbody>\n",
              "    <tr>\n",
              "      <th>0</th>\n",
              "      <td>0</td>\n",
              "    </tr>\n",
              "    <tr>\n",
              "      <th>1</th>\n",
              "      <td>0</td>\n",
              "    </tr>\n",
              "    <tr>\n",
              "      <th>2</th>\n",
              "      <td>1</td>\n",
              "    </tr>\n",
              "    <tr>\n",
              "      <th>3</th>\n",
              "      <td>0</td>\n",
              "    </tr>\n",
              "    <tr>\n",
              "      <th>4</th>\n",
              "      <td>0</td>\n",
              "    </tr>\n",
              "  </tbody>\n",
              "</table>\n",
              "</div>"
            ],
            "text/plain": [
              "   0\n",
              "0  0\n",
              "1  0\n",
              "2  1\n",
              "3  0\n",
              "4  0"
            ]
          },
          "metadata": {
            "tags": []
          },
          "execution_count": 7
        }
      ]
    },
    {
      "cell_type": "code",
      "metadata": {
        "id": "zUukTYpbfzTu",
        "colab": {
          "base_uri": "https://localhost:8080/",
          "height": 282
        },
        "outputId": "89753756-49d1-439b-b5aa-db74856e733c"
      },
      "source": [
        "# create a scatter plot for inputData set with outputData color\n",
        "\n",
        "plt.scatter(inputData[0], inputData[1], c = outputData)"
      ],
      "execution_count": 8,
      "outputs": [
        {
          "output_type": "execute_result",
          "data": {
            "text/plain": [
              "<matplotlib.collections.PathCollection at 0x7f8144c9c710>"
            ]
          },
          "metadata": {
            "tags": []
          },
          "execution_count": 8
        },
        {
          "output_type": "display_data",
          "data": {
            "image/png": "[encoded data removed]",
            "text/plain": [
              "<Figure size 432x288 with 1 Axes>"
            ]
          },
          "metadata": {
            "tags": [],
            "needs_background": "light"
          }
        }
      ]
    },
    {
      "cell_type": "code",
      "metadata": {
        "id": "liEanw6PfzTv"
      },
      "source": [
        ""
      ],
      "execution_count": 8,
      "outputs": []
    },
    {
      "cell_type": "code",
      "metadata": {
        "id": "E_BO1AigfzTv",
        "colab": {
          "base_uri": "https://localhost:8080/"
        },
        "outputId": "5d2a451b-b7b8-464c-c87f-4d1367f861f8"
      },
      "source": [
        "# Call the sklearn Kmeans and make a model with 200 samples\n",
        "from sklearn.cluster import KMeans\n",
        "model = KMeans(n_clusters=5)\n",
        "model.fit(inputData)\n",
        "\n",
        "#model_fit\n"
      ],
      "execution_count": 9,
      "outputs": [
        {
          "output_type": "execute_result",
          "data": {
            "text/plain": [
              "KMeans(algorithm='auto', copy_x=True, init='k-means++', max_iter=300,\n",
              "       n_clusters=5, n_init=10, n_jobs=None, precompute_distances='auto',\n",
              "       random_state=None, tol=0.0001, verbose=0)"
            ]
          },
          "metadata": {
            "tags": []
          },
          "execution_count": 9
        }
      ]
    },
    {
      "cell_type": "code",
      "metadata": {
        "id": "t7Xg1g7kfzTw",
        "colab": {
          "base_uri": "https://localhost:8080/"
        },
        "outputId": "b812f2c6-6470-4764-8e4c-6306ba1022be"
      },
      "source": [
        "# check for labels\n",
        "\n",
        "model.labels_"
      ],
      "execution_count": 10,
      "outputs": [
        {
          "output_type": "execute_result",
          "data": {
            "text/plain": [
              "array([4, 0, 3, 4, 0, 2, 3, 0, 2, 1, 3, 0, 4, 1, 2, 3, 4, 0, 2, 3, 1, 4,\n",
              "       3, 1, 1, 0, 3, 3, 2, 0, 4, 1, 1, 1, 0, 2, 1, 4, 1, 0, 2, 3, 1, 0,\n",
              "       2, 0, 4, 2, 0, 3, 1, 1, 0, 3, 4, 1, 0, 3, 1, 0, 4, 2, 2, 0, 3, 2,\n",
              "       4, 0, 0, 1, 1, 1, 4, 2, 1, 3, 0, 1, 3, 3, 1, 3, 0, 2, 1, 1, 4, 2,\n",
              "       3, 3, 4, 3, 0, 2, 2, 0, 0, 0, 4, 2, 0, 0, 3, 3, 3, 4, 4, 0, 1, 3,\n",
              "       1, 0, 3, 2, 1, 1, 1, 4, 0, 2, 4, 3, 2, 1, 4, 2, 1, 3, 3, 3, 1, 4,\n",
              "       3, 3, 2, 1, 3, 3, 1, 1, 0, 2, 1, 2, 4, 0, 3, 0, 0, 3, 2, 0, 2, 2,\n",
              "       4, 4, 1, 0, 0, 4, 0, 1, 4, 1, 3, 1, 3, 1, 2, 0, 0, 1, 3, 4, 0, 4,\n",
              "       2, 3, 3, 3, 1, 4, 0, 4, 3, 0, 0, 0, 3, 2, 4, 1, 0, 1, 2, 2, 2, 0,\n",
              "       4, 1], dtype=int32)"
            ]
          },
          "metadata": {
            "tags": []
          },
          "execution_count": 10
        }
      ]
    },
    {
      "cell_type": "code",
      "metadata": {
        "id": "e0pzqR4NfzTx"
      },
      "source": [
        "from sklearn import metrics"
      ],
      "execution_count": 11,
      "outputs": []
    },
    {
      "cell_type": "code",
      "metadata": {
        "id": "kZXNCbeGfzTy",
        "colab": {
          "base_uri": "https://localhost:8080/"
        },
        "outputId": "0e00ff4f-1e20-4445-c11b-9cd0e7181a45"
      },
      "source": [
        "# call metrics and check silhoutte score\n",
        "\n",
        "metrics.silhouette_score(inputData, model.labels_)"
      ],
      "execution_count": 12,
      "outputs": [
        {
          "output_type": "execute_result",
          "data": {
            "text/plain": [
              "0.4872097598491105"
            ]
          },
          "metadata": {
            "tags": []
          },
          "execution_count": 12
        }
      ]
    },
    {
      "cell_type": "code",
      "metadata": {
        "id": "zeHmhewTfzTz",
        "colab": {
          "base_uri": "https://localhost:8080/",
          "height": 282
        },
        "outputId": "20eeab16-2edb-49a3-dc31-aca622ecdbb6"
      },
      "source": [
        "# create a scatter plot for inputData set with model labels color\n",
        "\n",
        "plt.scatter(inputData[0], inputData[1], c = model.labels_)"
      ],
      "execution_count": 13,
      "outputs": [
        {
          "output_type": "execute_result",
          "data": {
            "text/plain": [
              "<matplotlib.collections.PathCollection at 0x7f8144815250>"
            ]
          },
          "metadata": {
            "tags": []
          },
          "execution_count": 13
        },
        {
          "output_type": "display_data",
          "data": {
            "image/png": "[encoded data removed]",
            "text/plain": [
              "<Figure size 432x288 with 1 Axes>"
            ]
          },
          "metadata": {
            "tags": [],
            "needs_background": "light"
          }
        }
      ]
    },
    {
      "cell_type": "markdown",
      "metadata": {
        "id": "HgO0M0z9fzT0"
      },
      "source": [
        "#### finding right number of cluster"
      ]
    },
    {
      "cell_type": "code",
      "metadata": {
        "id": "_zibWvpBfzT0"
      },
      "source": [
        "cluster_range = range(1, 20)\n",
        "error_list = []\n",
        "\n",
        "for i in cluster_range:\n",
        "    model = KMeans(n_clusters=i)\n",
        "    model.fit(inputData)\n",
        "    res = model.inertia_\n",
        "    error_list.append(res)"
      ],
      "execution_count": 14,
      "outputs": []
    },
    {
      "cell_type": "code",
      "metadata": {
        "id": "ETT8GqtWfzT1",
        "colab": {
          "base_uri": "https://localhost:8080/",
          "height": 295
        },
        "outputId": "a2e12600-659e-47bc-fe20-ce9e9e7c3954"
      },
      "source": [
        "import matplotlib.pyplot as plt\n",
        "\n",
        "plt.plot(cluster_range, error_list, marker = \"o\", color = \"g\", markersize = 10)\n",
        "plt.xlabel(\"Cluster Range\")\n",
        "plt.ylabel(\"IntraCluster Sum\")\n",
        "plt.title(\"KMeans\")\n",
        "plt.show()"
      ],
      "execution_count": 15,
      "outputs": [
        {
          "output_type": "display_data",
          "data": {
            "image/png": "[encoded data removed]",
            "text/plain": [
              "<Figure size 432x288 with 1 Axes>"
            ]
          },
          "metadata": {
            "tags": [],
            "needs_background": "light"
          }
        }
      ]
    },
    {
      "cell_type": "code",
      "metadata": {
        "id": "yOT5hEsmfzT2"
      },
      "source": [
        ""
      ],
      "execution_count": 15,
      "outputs": []
    },
    {
      "cell_type": "code",
      "metadata": {
        "id": "DqWZfD60fzT3"
      },
      "source": [
        ""
      ],
      "execution_count": 15,
      "outputs": []
    }
  ]
}